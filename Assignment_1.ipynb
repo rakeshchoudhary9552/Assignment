{
  "nbformat": 4,
  "nbformat_minor": 0,
  "metadata": {
    "colab": {
      "name": "Assignment 1.ipynb",
      "provenance": []
    },
    "kernelspec": {
      "name": "python3",
      "display_name": "Python 3"
    },
    "language_info": {
      "name": "python"
    }
  },
  "cells": [
    {
      "cell_type": "code",
      "metadata": {
        "id": "FVmW0AJXm5Q2"
      },
      "source": [
        "# Assignment 1 : Take a input to a list and sort it in descending order\n",
        " "
      ],
      "execution_count": null,
      "outputs": []
    },
    {
      "cell_type": "code",
      "metadata": {
        "colab": {
          "base_uri": "https://localhost:8080/"
        },
        "id": "0HphYp_-nLsV",
        "outputId": "79caf561-dbae-4a5e-c37b-0151d495cc2e"
      },
      "source": [
        "li = [1,5,7,9,5,4,8,6,3,]\n",
        "li.sort()\n",
        "print(li)"
      ],
      "execution_count": null,
      "outputs": [
        {
          "output_type": "stream",
          "text": [
            "[1, 3, 4, 5, 5, 6, 7, 8, 9]\n"
          ],
          "name": "stdout"
        }
      ]
    },
    {
      "cell_type": "code",
      "metadata": {
        "colab": {
          "base_uri": "https://localhost:8080/"
        },
        "id": "q1KQYU3_qkSQ",
        "outputId": "d5cc3a57-39fe-4803-9387-f68fc40f3af5"
      },
      "source": [
        "li = [1,5,7,9,5,4,8,6,3,]\n",
        "li.reverse()\n",
        "print(li)"
      ],
      "execution_count": null,
      "outputs": [
        {
          "output_type": "stream",
          "text": [
            "[3, 6, 8, 4, 5, 9, 7, 5, 1]\n"
          ],
          "name": "stdout"
        }
      ]
    },
    {
      "cell_type": "code",
      "metadata": {
        "colab": {
          "base_uri": "https://localhost:8080/"
        },
        "id": "JzQlRCTtqzoH",
        "outputId": "bd932216-d15b-4862-ce98-14c1065bebfb"
      },
      "source": [
        "# list in descending order\n",
        "li = [1,5,7,9,5,4,8,6,3,]\n",
        "li.sort()\n",
        "li.reverse()\n",
        "print(li)\n"
      ],
      "execution_count": null,
      "outputs": [
        {
          "output_type": "stream",
          "text": [
            "[9, 8, 7, 6, 5, 5, 4, 3, 1]\n"
          ],
          "name": "stdout"
        }
      ]
    },
    {
      "cell_type": "code",
      "metadata": {
        "colab": {
          "base_uri": "https://localhost:8080/"
        },
        "id": "bpce6kGLtvwj",
        "outputId": "7e1eb9ae-1b80-4086-ac21-8af46e4a2d1f"
      },
      "source": [
        "# input list in descending order\n",
        "\n",
        "li = [int(i) for i in input(\"enter values:  \").split()]\n",
        "li.sort()\n",
        "li.reverse()\n",
        "print(li)\n"
      ],
      "execution_count": null,
      "outputs": [
        {
          "output_type": "stream",
          "text": [
            "enter values:  12 4 54 87 98 14 15 32 47\n",
            "[98, 87, 54, 47, 32, 15, 14, 12, 4]\n"
          ],
          "name": "stdout"
        }
      ]
    }
  ]
}