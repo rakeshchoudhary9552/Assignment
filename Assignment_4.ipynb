{
  "nbformat": 4,
  "nbformat_minor": 0,
  "metadata": {
    "colab": {
      "name": "Assignment 4.ipynb",
      "provenance": [],
      "collapsed_sections": []
    },
    "kernelspec": {
      "name": "python3",
      "display_name": "Python 3"
    },
    "language_info": {
      "name": "python"
    }
  },
  "cells": [
    {
      "cell_type": "code",
      "metadata": {
        "id": "c-v2goJKn-e8"
      },
      "source": [
        "# Assignment 4 : Degree converter"
      ],
      "execution_count": null,
      "outputs": []
    },
    {
      "cell_type": "code",
      "metadata": {
        "colab": {
          "base_uri": "https://localhost:8080/"
        },
        "id": "0ufXNlLlpIqO",
        "outputId": "6baaeb28-4f83-43f9-cdf3-b2fffcb9d21b"
      },
      "source": [
        "C = int(input(\"Enter the temperature in Celsius =  \"))\n",
        "if C <= 50:\n",
        "  F = C * 1.8 + 32\n",
        "  print(\"Value in Fahrenheit = \", F)\n",
        "else:\n",
        "  print(\"Please check value\")\n"
      ],
      "execution_count": 44,
      "outputs": [
        {
          "output_type": "stream",
          "text": [
            "Enter the temperature in Celsius =  12\n",
            "Value in Fahrenheit =  53.6\n"
          ],
          "name": "stdout"
        }
      ]
    }
  ]
}