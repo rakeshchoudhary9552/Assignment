{
  "nbformat": 4,
  "nbformat_minor": 0,
  "metadata": {
    "colab": {
      "name": "Assignment 3.ipynb",
      "provenance": []
    },
    "kernelspec": {
      "name": "python3",
      "display_name": "Python 3"
    },
    "language_info": {
      "name": "python"
    }
  },
  "cells": [
    {
      "cell_type": "code",
      "metadata": {
        "id": "wbjbXez0wzHV"
      },
      "source": [
        "# Assignment 3 : Check whether string is a pangram\n",
        "\n",
        "# Pangram Meaning : If all the 26 alphabets are present in a statement then such statement is a pangram"
      ],
      "execution_count": null,
      "outputs": []
    },
    {
      "cell_type": "code",
      "metadata": {
        "colab": {
          "base_uri": "https://localhost:8080/"
        },
        "id": "ucVZy5NMw8YQ",
        "outputId": "e32c09ff-6706-4529-a049-3dd2a814cc20"
      },
      "source": [
        "import string as s\n",
        "\n",
        "Characters = s.ascii_letters + s.digits\n",
        "Alphabets = \"abcdefghijklmnopqrstuvwxyz\"\n",
        "\n",
        "for x in Alphabets:\n",
        "  if x in Characters:\n",
        "    print(\"Pangram\")\n",
        "  else:\n",
        "    print(\"Not Pangram\") "
      ],
      "execution_count": null,
      "outputs": [
        {
          "output_type": "stream",
          "text": [
            "Pangram\n",
            "Pangram\n",
            "Pangram\n",
            "Pangram\n",
            "Pangram\n",
            "Pangram\n",
            "Pangram\n",
            "Pangram\n",
            "Pangram\n",
            "Pangram\n",
            "Pangram\n",
            "Pangram\n",
            "Pangram\n",
            "Pangram\n",
            "Pangram\n",
            "Pangram\n",
            "Pangram\n",
            "Pangram\n",
            "Pangram\n",
            "Pangram\n",
            "Pangram\n",
            "Pangram\n",
            "Pangram\n",
            "Pangram\n",
            "Pangram\n",
            "Pangram\n"
          ],
          "name": "stdout"
        }
      ]
    },
    {
      "cell_type": "code",
      "metadata": {
        "id": "a4jK2fGj8z8B"
      },
      "source": [
        "# In the above code, all the alphabets are present in string. Hence \"String is pangram\"\n",
        "# The code is run 26 times as 1 for each alphabet. \n",
        "# If from the above 26 results even if one result would have been \"not pangram\" then the answer would be \"String is not the pangram\"\n"
      ],
      "execution_count": null,
      "outputs": []
    },
    {
      "cell_type": "code",
      "metadata": {
        "colab": {
          "base_uri": "https://localhost:8080/"
        },
        "id": "iEk-Vshf-N8g",
        "outputId": "0ef5cbf3-2e6c-42de-b490-41e21487c03b"
      },
      "source": [
        "#String is not the pangram case\n",
        "import string as s\n",
        "\n",
        "Characters = s.digits\n",
        "Alphabets = \"abcdefghijklmnopqrstuvwxyz\"\n",
        "\n",
        "for x in Alphabets:\n",
        "  if x in Characters:\n",
        "    print(\"Pangram\")\n",
        "  else:\n",
        "    print(\"Not Pangram\")"
      ],
      "execution_count": null,
      "outputs": [
        {
          "output_type": "stream",
          "text": [
            "Not Pangram\n",
            "Not Pangram\n",
            "Not Pangram\n",
            "Not Pangram\n",
            "Not Pangram\n",
            "Not Pangram\n",
            "Not Pangram\n",
            "Not Pangram\n",
            "Not Pangram\n",
            "Not Pangram\n",
            "Not Pangram\n",
            "Not Pangram\n",
            "Not Pangram\n",
            "Not Pangram\n",
            "Not Pangram\n",
            "Not Pangram\n",
            "Not Pangram\n",
            "Not Pangram\n",
            "Not Pangram\n",
            "Not Pangram\n",
            "Not Pangram\n",
            "Not Pangram\n",
            "Not Pangram\n",
            "Not Pangram\n",
            "Not Pangram\n",
            "Not Pangram\n"
          ],
          "name": "stdout"
        }
      ]
    }
  ]
}