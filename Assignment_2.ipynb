{
  "nbformat": 4,
  "nbformat_minor": 0,
  "metadata": {
    "colab": {
      "name": "Assignment 2.ipynb",
      "provenance": []
    },
    "kernelspec": {
      "name": "python3",
      "display_name": "Python 3"
    },
    "language_info": {
      "name": "python"
    }
  },
  "cells": [
    {
      "cell_type": "code",
      "metadata": {
        "id": "XrVeEw5qjSQ5"
      },
      "source": [
        "# Assignment no. 2 \n",
        "# Remove all occurences of an element from the list\n"
      ],
      "execution_count": null,
      "outputs": []
    },
    {
      "cell_type": "code",
      "metadata": {
        "colab": {
          "base_uri": "https://localhost:8080/"
        },
        "id": "9Z47ydu5jlC7",
        "outputId": "191e596f-0983-4c17-cb83-b6c6e3c5a4b1"
      },
      "source": [
        "li = [1,2,5,7,8,4,6,7,8,2,5,8,7,46,4,5,7]\n",
        "\n",
        "print(li.count(1))\n",
        "print(li.count(2))\n",
        "print(li.count(5))\n",
        "print(li.count(7))"
      ],
      "execution_count": null,
      "outputs": [
        {
          "output_type": "stream",
          "text": [
            "1\n",
            "2\n",
            "3\n",
            "4\n"
          ],
          "name": "stdout"
        }
      ]
    }
  ]
}