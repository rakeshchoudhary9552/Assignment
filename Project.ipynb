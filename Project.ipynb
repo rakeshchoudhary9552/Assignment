{
  "nbformat": 4,
  "nbformat_minor": 0,
  "metadata": {
    "colab": {
      "name": "Project.ipynb",
      "provenance": [],
      "collapsed_sections": []
    },
    "kernelspec": {
      "name": "python3",
      "display_name": "Python 3"
    },
    "language_info": {
      "name": "python"
    }
  },
  "cells": [
    {
      "cell_type": "code",
      "metadata": {
        "id": "c41j4u4oP1BY"
      },
      "source": [
        "# Project 1 : Generating OTP of 6 alphanumeric characters"
      ],
      "execution_count": null,
      "outputs": []
    },
    {
      "cell_type": "code",
      "metadata": {
        "colab": {
          "base_uri": "https://localhost:8080/"
        },
        "id": "DMST3ZrEQE1G",
        "outputId": "10435d14-78b8-4394-8ae8-307b84e23f87"
      },
      "source": [
        "import random as r\n",
        "import string as s\n",
        "length = 6\n",
        "otp = ''\n",
        "characters = s.ascii_letters + s.digits\n",
        "print(characters)\n",
        "\n",
        "for i in range(length):\n",
        " otp = otp + r.choice(characters)\n",
        "print(\"Your OTP is: \", otp)"
      ],
      "execution_count": null,
      "outputs": [
        {
          "output_type": "stream",
          "text": [
            "abcdefghijklmnopqrstuvwxyzABCDEFGHIJKLMNOPQRSTUVWXYZ0123456789\n",
            "Your OTP is:  vkRKU7\n"
          ],
          "name": "stdout"
        }
      ]
    }
  ]
}